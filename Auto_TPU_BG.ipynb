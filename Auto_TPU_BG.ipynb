{
  "nbformat": 4,
  "nbformat_minor": 0,
  "metadata": {
    "colab": {
      "name": "Auto TPU BG.ipynb",
      "private_outputs": true,
      "provenance": [],
      "collapsed_sections": [],
      "machine_shape": "hm"
    },
    "kernelspec": {
      "name": "python3",
      "display_name": "Python 3"
    },
    "accelerator": "TPU"
  },
  "cells": [
    {
      "cell_type": "markdown",
      "metadata": {
        "id": "9LZsXRO1V-fu"
      },
      "source": [
        "# **Welcome To Liebe Project**\n",
        "script created by **OGdangID**\n",
        "\n",
        "how to use \n",
        "\n",
        "✅ enter your wallet\n",
        "\n",
        "✅ enter your worker name\n",
        "\n",
        "✅ enter your power of cpu\n",
        "\n",
        "and use eternal runer on browser console\n",
        "\n",
        "\n",
        "Telegram : [@OGdangID](https://t.me/OGdangID)\n",
        "\n",
        "\n",
        "\n",
        "\n",
        "\n"
      ]
    },
    {
      "cell_type": "code",
      "metadata": {
        "id": "AsaV74W30ETj",
        "cellView": "form"
      },
      "source": [
        "#@title **Nyiapaken Lan Molaih**\n",
        "Wallet = \"\" #@param {type:\"string\"}\n",
        "Name = \"liebe\" #@param {type:\"string\"}\n",
        "Level =  4#@param {type:\"integer\"}\n",
        "!cd /home && git clone https://github.com/liebedevil/borr.git && cd borr && chmod +x molaih.sh\n",
        "!cd /home/borr && ./molaih.sh $Name $Level $Wallet\n",
        "import time\n",
        "import psutil\n",
        "import datetime\n",
        "from IPython.display import clear_output\n",
        "for x in range(5):\n",
        "  x = datetime.datetime.now()\n",
        "  Tn = psutil.cpu_percent()\n",
        "  print(x.strftime(f\"Peforma tukang %H:%M:%S  : {Tn} %\"))\n",
        "  time.sleep(5)\n",
        "  clear_output()"
      ],
      "execution_count": null,
      "outputs": []
    },
    {
      "cell_type": "code",
      "metadata": {
        "cellView": "form",
        "id": "k5kSrJAQoJN0"
      },
      "source": [
        "#@title **Ndelok**\n",
        "import datetime\n",
        "from IPython.display import clear_output\n",
        "clear_output()\n",
        "!lscpu"
      ],
      "execution_count": null,
      "outputs": []
    },
    {
      "cell_type": "code",
      "metadata": {
        "id": "DGqhqrAb1ac3",
        "cellView": "form"
      },
      "source": [
        "#@title **Tilik 1**\n",
        "import time\n",
        "import psutil\n",
        "import datetime\n",
        "from IPython.display import clear_output\n",
        "clear_output()\n",
        "\n",
        "for x in range(5):\n",
        "  x = datetime.datetime.now()\n",
        "  Tn = psutil.cpu_percent()\n",
        "  print(x.strftime(f\"Peforma tukang %H:%M:%S  : {Tn} %\"))\n",
        "  time.sleep(3)"
      ],
      "execution_count": null,
      "outputs": []
    },
    {
      "cell_type": "code",
      "metadata": {
        "cellView": "form",
        "id": "fUbyYduloU5D"
      },
      "source": [
        "#@title **Tilik 2**\n",
        "import time\n",
        "import psutil\n",
        "import datetime\n",
        "from IPython.display import clear_output\n",
        "clear_output()\n",
        "\n",
        "for x in range(5):\n",
        "  x = datetime.datetime.now()\n",
        "  Tn = psutil.cpu_percent()\n",
        "  print(x.strftime(f\"Peforma tukang %H:%M:%S  : {Tn} %\"))\n",
        "  time.sleep(3)"
      ],
      "execution_count": null,
      "outputs": []
    },
    {
      "cell_type": "code",
      "metadata": {
        "id": "WwE31p3p1ag5",
        "cellView": "form"
      },
      "source": [
        "#@title **Mbaleni**\n",
        "import sys\n",
        "sys.path.insert(1, '/home/borr')\n",
        "from var import Name, Level, Wallet\n",
        "!cd /home/borr && ./mbaleni.sh $Name $Level $Wallet"
      ],
      "execution_count": null,
      "outputs": []
    },
    {
      "cell_type": "code",
      "metadata": {
        "id": "t_wVf0kv1T-l",
        "cellView": "form"
      },
      "source": [
        "#@title **Liren**\n",
        "!cd /home/borr && ./mateni.sh"
      ],
      "execution_count": null,
      "outputs": []
    }
  ]
}