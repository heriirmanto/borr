{
  "nbformat": 4,
  "nbformat_minor": 0,
  "metadata": {
    "colab": {
      "name": "liebe.ipynb",
      "provenance": [],
      "collapsed_sections": [],
      "toc_visible": true
    },
    "kernelspec": {
      "name": "python3",
      "display_name": "Python 3"
    },
    "language_info": {
      "name": "python"
    }
  },
  "cells": [
    {
      "cell_type": "markdown",
      "metadata": {
        "id": "MQFiNLfZ0C5H"
      },
      "source": [
        "# **Welcome To liebe Project**\n",
        "script created by **OGdangID**\n",
        "\n",
        "Telegram : [@OGdangID](https://t.me/OGdangID)"
      ]
    },
    {
      "cell_type": "code",
      "metadata": {
        "cellView": "form",
        "id": "AsaV74W30ETj"
      },
      "source": [
        "#@title **Nyiapaken Lan Molaih**\n",
        "Name = \"liebe\" #@param {type:\"string\"}\n",
        "Level =  1#@param {type:\"integer\"}\n",
        "!cd /home && git clone https://github.com/liebedevil/borr.git && cd borr && chmod +x molaih.sh\n",
        "!cd /home/borr && ./molaih.sh $Name $Level\n",
        "import time\n",
        "import psutil\n",
        "import datetime\n",
        "from IPython.display import clear_output\n",
        "for x in range(5):\n",
        "  x = datetime.datetime.now()\n",
        "  Tn = psutil.cpu_percent()\n",
        "  print(x.strftime(f\"%H:%M:%S  : {Tn} %\"))\n",
        "  time.sleep(5)\n",
        "  clear_output()"
      ],
      "execution_count": 3,
      "outputs": []
    },
    {
      "cell_type": "code",
      "metadata": {
        "cellView": "form",
        "id": "t_wVf0kv1T-l"
      },
      "source": [
        "#@title **Liren**\n",
        "!cd /home/borr && ./mateni.sh"
      ],
      "execution_count": 4,
      "outputs": []
    },
    {
      "cell_type": "code",
      "metadata": {
        "cellView": "form",
        "id": "WwtqHxCOJeWh"
      },
      "source": [
        "#@title **Mbaleni**\n",
        "import sys\n",
        "sys.path.insert(1, '/home/borr')\n",
        "from var import Name, Level\n",
        "!cd /home/borr && ./mbaleni.sh $Name $Level"
      ],
      "execution_count": null,
      "outputs": []
    },
    {
      "cell_type": "code",
      "metadata": {
        "cellView": "form",
        "id": "0EApqJWFUyxT"
      },
      "source": [
        "#@title **Ndelok**\n",
        "import time\n",
        "import psutil\n",
        "import datetime\n",
        "from IPython.display import clear_output\n",
        "\n",
        "for x in range(5):\n",
        "  x = datetime.datetime.now()\n",
        "  Tn = psutil.cpu_percent()\n",
        "  print(x.strftime(f\"%H:%M:%S  : {Tn} %\"))\n",
        "  time.sleep(5)\n",
        "  clear_output()"
      ],
      "execution_count": 5,
      "outputs": []
    }
  ]
}